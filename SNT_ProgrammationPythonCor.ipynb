{
 "cells": [
  {
   "cell_type": "markdown",
   "metadata": {
    "slideshow": {
     "slide_type": "slide"
    }
   },
   "source": [
    "# <span style=\"color: #FF0000\" >SNT - INITIATION ET REVISIONS EN LANGAGE PYTHON - CORRECTION</span>"
   ]
  },
  {
   "cell_type": "markdown",
   "metadata": {
    "slideshow": {
     "slide_type": "slide"
    }
   },
   "source": [
    "# <span style=\"color: #008F00\" > 1. Présentation du Notebook Jupyter</span>"
   ]
  },
  {
   "cell_type": "markdown",
   "metadata": {
    "slideshow": {
     "slide_type": "subslide"
    }
   },
   "source": [
    "Il s'agit du document que vous avez sous les yeux, document au format .ipynb. \n",
    "Sans rentrer dans les détails, un **notebook** fonctionne avec un système de cases qui peuvent correspondre soit à du texte soit à des programmes exécutables, c'est cette dernière fonctionnalité qui est utile pour nous car cela vous évitera d'avoir à installer un programmae supplémentaire.\n",
    "\n",
    "Vous êtes ici dans une zone de texte (lisible mais aussi est modifiable).\n",
    "Pour la modifier, double cliquer dessus, réalisez vos modifications. Lorsque vous avez terminé, il suffit d'appuyer sur la touche shift (*la flèche vers le haut à gauche du clavier*) et en même temps sur entrée pour repasser à la visions normale.\n",
    "\n",
    "Lorsque la case comme celle ci-dessous est exécutable (un programme en langage python), il suffit d'appuyer sur la touche shift (*la flèche vers le haut à gauche du clavier*) puis entrée pour exécutez le programme.\n",
    "Testez l'exemple ci-dessous. En dessous de la cellule s'affichera le résultat de l'exécution du code."
   ]
  },
  {
   "cell_type": "code",
   "execution_count": null,
   "metadata": {},
   "outputs": [],
   "source": [
    "print(\"Cellule exécutable\")\n",
    "a=3\n",
    "print(a)"
   ]
  },
  {
   "cell_type": "markdown",
   "metadata": {},
   "source": [
    "Il existe plusieurs tutoriels sur internet, les notebook jupyter sont mêmes utilisables depuis lycée connecté.\n",
    "Par exemple [ici](http://python.lecoinduprogrammeur.org/2017/05/07/jupyter-notebook-ecrivez-executer-documentez-et-publiez-votre-code-python/)\n",
    "Si vous préférez, vous pouvez tout à fait installer `spyder` (que nous utilisons au lycée) ou un éditeur en ligne comme [repl.it](https://repl.it/languages/Python3)."
   ]
  },
  {
   "cell_type": "markdown",
   "metadata": {
    "slideshow": {
     "slide_type": "slide"
    }
   },
   "source": [
    "# <span style=\"color: #008F00\" >2. Quelques révisions</span>"
   ]
  },
  {
   "cell_type": "markdown",
   "metadata": {
    "slideshow": {
     "slide_type": "subslide"
    }
   },
   "source": [
    "La plupart d'entre vous ont vu au collège la programmation avec scratch : commencez par lire le livre page 172 et 173 puis faire ce petit [QCM de révision :](https://numeres.net/9782206103389/res/9782206103389-ht5-snt-15/index.html).  \n",
    "Le corrigé est disponible page 188.  "
   ]
  },
  {
   "cell_type": "code",
   "execution_count": null,
   "metadata": {},
   "outputs": [],
   "source": [
    "# Shift + entrée pour exécuter la cellule, ici lire la vidéo.\n",
    "from IPython.display import Video\n",
    "Video(\"http://physiquelga.free.fr/SNT/Programmation/PythonHistoire.mp4\")"
   ]
  },
  {
   "cell_type": "markdown",
   "metadata": {
    "slideshow": {
     "slide_type": "subslide"
    }
   },
   "source": [
    "# <span style=\"color: #008F00\" >3 Variables et instructions élémentaires :</span>\n",
    "Les variables permettent d'enregistrer, de stocker des informations. L'intérêt peut être la clarté de lecture du programme (par exemple entre utiliser le nombre 23 et dire nb_eleves = 23, la différence est que l'on sait de quoi on parle). La variable permet surtout de conserver une information que l'on réutilisera par la suite. Les fonctions input() et print() seront étudiées ici.\n",
    "**Lire les pages 174, 175 de votre livre.**"
   ]
  },
  {
   "cell_type": "code",
   "execution_count": null,
   "metadata": {},
   "outputs": [],
   "source": [
    "# Lorsque le signe # précède un bout de code, il s'agit d'un commentaire\n",
    "# Le commentaire aide à comprendre le programme mais n'en fait pas partie.\n",
    "# Apprendre à écrire un programme page 175\n",
    "R=int(input(\"Rouge=\"))\n",
    "V=int(input(\"Vert=\"))\n",
    "B=int(input(\"Bleu=\"))\n",
    "G=int(0.11*R+0.83*V+0.06*B)\n",
    "print(\"G=\",G)"
   ]
  },
  {
   "cell_type": "markdown",
   "metadata": {
    "slideshow": {
     "slide_type": "subslide"
    }
   },
   "source": [
    "## 3.1 Les réseaux sociaux (n°1 page 174) :\n",
    "Un réseau social gagne chaque mois 50 euros par abonné et dépense 1500 euros. On veut calculer le revenu annuel du réseau social en fonction du nombre d'abonnés.\n",
    "<img src=\"http://physiquelga.free.fr/SNT/Programmation/3RS.jpg\" width=35%>"
   ]
  },
  {
   "cell_type": "code",
   "execution_count": 1,
   "metadata": {},
   "outputs": [
    {
     "name": "stdin",
     "output_type": "stream",
     "text": [
      "Combien d'abonnés avez-vous ? 25\n"
     ]
    },
    {
     "name": "stdout",
     "output_type": "stream",
     "text": [
      "Le revenu du réseau social en euros est de -250\n"
     ]
    }
   ],
   "source": [
    "# Déterminer la ou les variables à saisir, le traitement et l'affichage à réaliser.\n",
    "# Ecrire le programme correspondant en Python.\n",
    "# Le nombre d'abonné sera à fournir par l'utilisateur.\n",
    "# Il y a deux variables, deux entiers \"nbabonne\" et \"revenu\".\n",
    "nbabonne = int(input(\"Combien d'abonnés avez-vous ?\"))\n",
    "revenu = nbabonne * 50 - 1500\n",
    "print (\"Le revenu du réseau social en euros est de \",end=\"\")\n",
    "print(revenu)"
   ]
  },
  {
   "cell_type": "markdown",
   "metadata": {
    "slideshow": {
     "slide_type": "subslide"
    }
   },
   "source": [
    "## 3.2 La localisation\n",
    "Un centimètre sur une carte représente 2 kilomètres dans la réalité. On souhaite traduire la longueur mesurée sur la carte en longueur réelle.  \n",
    "<img src=\"http://physiquelga.free.fr/SNT/Programmation/3L.jpg\" width=35%>"
   ]
  },
  {
   "cell_type": "code",
   "execution_count": null,
   "metadata": {},
   "outputs": [],
   "source": [
    "# Déterminer la ou les variables à saisir, le traitement et l’aﬃchage à réaliser.\n",
    "# Écrire le programme correspondant en Python.\n",
    "longueurMesuree = int(input(\"Quelle distance mesurez-vous en cm?\"))\n",
    "longueurReelle = longueurMesuree * 2\n",
    "print(f\"Dans la réalité, la distance est de {longueurReelle} km.\")"
   ]
  },
  {
   "cell_type": "markdown",
   "metadata": {},
   "source": [
    "Pour afficher le texte, j'ai ici utilisé une f-string. Pour comprendre commet cela marche, [regarder ici](https://he-arc.github.io/livre-python/fstrings/index.html)."
   ]
  },
  {
   "cell_type": "markdown",
   "metadata": {
    "slideshow": {
     "slide_type": "subslide"
    }
   },
   "source": [
    "## 3.3 Exercices"
   ]
  },
  {
   "cell_type": "markdown",
   "metadata": {},
   "source": [
    "**N°12 page 182 :**\n",
    "Quel est le type de chaque variable x, y, z et t ? \n",
    "\n",
    ">```python\n",
    "x=2.5\n",
    "y=\"Bonjour\"\n",
    "z=7\n",
    "t=\"18\"\n",
    "```\n",
    "    "
   ]
  },
  {
   "cell_type": "code",
   "execution_count": null,
   "metadata": {},
   "outputs": [],
   "source": [
    "#exemple : \n",
    "x = 2.5\n",
    "print(type(x))\n",
    "y=\"Bonjour\"\n",
    "print(type(y))\n",
    "z=7\n",
    "print(type(z))\n",
    "t=\"18\"\n",
    "print(type(t))"
   ]
  },
  {
   "cell_type": "markdown",
   "metadata": {},
   "source": [
    "Nous avons donc un nombre réel (float) un entier et deux chaînes de caractère."
   ]
  },
  {
   "cell_type": "markdown",
   "metadata": {},
   "source": [
    "**N°13 page 182 :** Qu’aﬃche le programme ?\n",
    "\n",
    ">```python\n",
    "x=3\n",
    "x=5\n",
    "x=2\n",
    "print(x)\n",
    "```"
   ]
  },
  {
   "cell_type": "code",
   "execution_count": null,
   "metadata": {},
   "outputs": [],
   "source": [
    "x=3\n",
    "x=5\n",
    "x=2\n",
    "print(x)"
   ]
  },
  {
   "cell_type": "markdown",
   "metadata": {},
   "source": [
    "**N°17 page 183 :** Juliette a écrit le programme suivant pour écrire les multiples de 25 :\n",
    "\n",
    ">```python\n",
    "x=input(\"Donner la valeur de x\")\n",
    "y=25\n",
    "print(x*y)\n",
    "\n",
    "1. Quel est le type de la variable x dans ce programme ?\n",
    "2. Trouver l’erreur.\n",
    "3. Corriger le programme."
   ]
  },
  {
   "cell_type": "code",
   "execution_count": null,
   "metadata": {
    "slideshow": {
     "slide_type": "fragment"
    }
   },
   "outputs": [],
   "source": [
    "# x est une chaîne de caractère\n",
    "# Il faut que le type soit en entier...\n",
    "x=int(input(\"Donner la valeur de x\"))\n",
    "y=25\n",
    "print(x*y)"
   ]
  },
  {
   "cell_type": "markdown",
   "metadata": {
    "slideshow": {
     "slide_type": "subslide"
    }
   },
   "source": [
    "# <span style=\"color: #008F00\" >4 Instructions conditionnelles :</span>\n",
    "Les instructions conditionnelles sont un éléemnt essentiel en programmation qui va permettre au programme de réagir différemment selon les données qu'il reçoit. En fançais, si... alors ...\n",
    "La notion d'indentation sera ici abordée.\n",
    "**Lire les page 176 et 177 de votre livre.**"
   ]
  },
  {
   "cell_type": "code",
   "execution_count": null,
   "metadata": {},
   "outputs": [],
   "source": [
    "age = int(input(\"Quel est votre âge ?\"))\n",
    "if age<13 :\n",
    "    print(\"Inscription interdite\")\n",
    "elif age<15:\n",
    "    print(\"Autorisation nécessaire\")\n",
    "else:\n",
    "    print (\"Inscription libre\")"
   ]
  },
  {
   "cell_type": "markdown",
   "metadata": {
    "slideshow": {
     "slide_type": "subslide"
    }
   },
   "source": [
    "## 4.1 La photographie numérique :\n",
    "Aﬁn de repérer la couleur dominante parmi les valeurs de rouge (R), de vert (V) et de bleu (B) d’une couleur, on souhaite aﬃcher quelle est la plus grande valeur parmi les trois.\n",
    "<img src=\"http://physiquelga.free.fr/SNT/Programmation/4PN.jpg\" width=35%>"
   ]
  },
  {
   "cell_type": "code",
   "execution_count": null,
   "metadata": {},
   "outputs": [],
   "source": [
    "# Déterminer le nombre de conditions et les écrire.\n",
    "# Écrire le programme correspondant en Python.\n",
    "# Il faut tester les 3 couleurs, on peut aussi tester des combinaisons de test avec les mot clé \"and\" et \"or\".\n",
    "R=int(input(\"Rouge=\"))\n",
    "V=int(input(\"Vert=\"))\n",
    "B=int(input(\"Bleu=\"))\n",
    "if R>=V :\n",
    "    if R>= B :\n",
    "        print (\"Le rouge domine\")\n",
    "    else :\n",
    "        print(\"Le bleu domine\")\n",
    "elif V>=B :\n",
    "    print (\"Le vert domine\")\n",
    "else : \n",
    "    print(\"Le bleu domine\")"
   ]
  },
  {
   "cell_type": "markdown",
   "metadata": {
    "slideshow": {
     "slide_type": "subslide"
    }
   },
   "source": [
    "## 4.2 Exercices"
   ]
  },
  {
   "cell_type": "markdown",
   "metadata": {
    "slideshow": {
     "slide_type": "subslide"
    }
   },
   "source": [
    "**N°23 page 183 :**\n",
    "Écrire en Python la suite d’instruction qui aﬃche une alerte si la température (on utilisera la variable « temperature ») dépasse 40 °C."
   ]
  },
  {
   "cell_type": "code",
   "execution_count": null,
   "metadata": {},
   "outputs": [],
   "source": [
    "temperature = int(input(\"Quelle est la température ?\"))\n",
    "if temperature >= 40 :\n",
    "    print(\"Alerte !\")"
   ]
  },
  {
   "cell_type": "markdown",
   "metadata": {},
   "source": [
    "**N°25 page 182 :**\n",
    "On donne le programme suivant :"
   ]
  },
  {
   "cell_type": "markdown",
   "metadata": {},
   "source": [
    "1. Qu’aﬃche ce programme lorsque x = 150, puis x = 300 ?\n",
    "2. On remplace la deuxième instruction « if »  par l’instruction « elif ».Qu’aﬃche le nouveau programme lorsque x = 150, puis x = 300 ?"
   ]
  },
  {
   "cell_type": "code",
   "execution_count": null,
   "metadata": {},
   "outputs": [],
   "source": [
    "x = int(input())\n",
    "if x>100 :\n",
    "    print(\"x est grand\")\n",
    "if x>200:  \n",
    "    print(\"x est très grand\")\n",
    "else:  \n",
    "    print(\"x est petit\")"
   ]
  },
  {
   "cell_type": "code",
   "execution_count": null,
   "metadata": {},
   "outputs": [],
   "source": [
    "x = int(input())\n",
    "if x>100 :\n",
    "    print(\"x est grand\")\n",
    "elif x>200:  \n",
    "    print(\"x est très grand\")\n",
    "else:  \n",
    "    print(\"x est petit\")"
   ]
  },
  {
   "cell_type": "markdown",
   "metadata": {
    "slideshow": {
     "slide_type": "subslide"
    }
   },
   "source": [
    "# <span style=\"color: #008F00\" >5 Les boucles :</span>\n",
    "Ces structures permettent de répéter des actions ce qui bien évidemment arrive très souvent dans un programme. Il existe plusieurs types de boucles dont notamment les boucles itératives ou boucles bornées : on sait à l'avance le nombre de fois où la boucle se fera (mot clé `for`). Il existe également les boucles non-bornées qui se feront aussi longtemps qu'une condition sera valable (mot clé `while`). **Lire page 178 et 179 de votre livre.**"
   ]
  },
  {
   "cell_type": "markdown",
   "metadata": {
    "slideshow": {
     "slide_type": "subslide"
    }
   },
   "source": [
    "## 5.1 Les réseaux sociaux (n°5 page 179) :\n",
    "Le nombre d’inscrits sur un nouveau réseau social est de 400 000 en janvier. Il est multiplié par 1,1 tous les mois.On souhaite écrire un programme estimant au bout de combien de mois il y aura plus d’1 million d’inscrits.  \n",
    "<img src=\"http://physiquelga.free.fr/SNT/Programmation/5RS.jpg\" width=35%>"
   ]
  },
  {
   "cell_type": "code",
   "execution_count": null,
   "metadata": {},
   "outputs": [],
   "source": [
    "# Déterminer le type de boucle nécessaire ainsi que l’instruction à répéter : on ne connaît pas à l'avance le nombre de mois donc boucle while...\n",
    "# Écrire le programme correspondant en Python.\n",
    "nbinscrit = 400000\n",
    "nbmois = 0\n",
    "while nbinscrit <= 1000000 :\n",
    "    nbinscrit = nbinscrit * 1.1\n",
    "    nbmois = nbmois + 1\n",
    "print (nbmois)"
   ]
  },
  {
   "cell_type": "markdown",
   "metadata": {
    "slideshow": {
     "slide_type": "subslide"
    }
   },
   "source": [
    "## 5.2 Exercices"
   ]
  },
  {
   "cell_type": "markdown",
   "metadata": {},
   "source": [
    "**N°27 page 182 :** Qu’aﬃche ce programme ?\n",
    ">```python\n",
    "for i in range(10): \n",
    "    print(i*i)\n",
    "\n",
    "# Il affiche les 10 premiers carrés."
   ]
  },
  {
   "cell_type": "code",
   "execution_count": null,
   "metadata": {},
   "outputs": [],
   "source": [
    "for i in range(10): \n",
    "    print(i*i)"
   ]
  },
  {
   "cell_type": "markdown",
   "metadata": {},
   "source": [
    "**N°31 page 183 :** Combien de tours eﬀectue cette boucle non bornée ?\n",
    "\n",
    ">```python\n",
    "x=0\n",
    "while x<10:\n",
    "    x=x+3\n",
    "```"
   ]
  },
  {
   "cell_type": "code",
   "execution_count": null,
   "metadata": {},
   "outputs": [],
   "source": [
    "# Elle effectue 4 tours \n",
    "x=0\n",
    "while x<10:\n",
    "    x=x+3\n",
    "    print(x)"
   ]
  },
  {
   "cell_type": "markdown",
   "metadata": {},
   "source": [
    "**N°34 page 183 :** Recopier et compléter le programme qui aﬃche les heures et les minutes d’une journée de 0 h 00 à 24 h 00.\n",
    ">```python\n",
    "for i in …:\n",
    "    for j in …:\n",
    "        print(…,\"h\",…,\"min\")\n",
    "```"
   ]
  },
  {
   "cell_type": "code",
   "execution_count": null,
   "metadata": {},
   "outputs": [],
   "source": [
    "for i in range(24):\n",
    "    for j in  range(60):\n",
    "        print(i,\"h\",j,\"min\")"
   ]
  },
  {
   "cell_type": "markdown",
   "metadata": {},
   "source": [
    "**N°33 page 183 :** Recopier et compléter le programme Python qui aﬃche « voulez-vous continuer ? » tant que l’utilisateur répond « oui ».\n",
    "```\n",
    "rep=\"oui\"\n",
    "… \n",
    "    rep=input(\"Voulez-vous continuer ?\")```"
   ]
  },
  {
   "cell_type": "code",
   "execution_count": null,
   "metadata": {},
   "outputs": [],
   "source": [
    "rep=\"oui\"\n",
    "while rep == \"oui\" :\n",
    "    rep=input(\"Voulez-vous continuer ?\")\n",
    "print (\"On s'arrête...\")"
   ]
  },
  {
   "cell_type": "markdown",
   "metadata": {
    "slideshow": {
     "slide_type": "subslide"
    }
   },
   "source": [
    "# <span style=\"color: #008F00\" >6 Les fonctions :</span>\n",
    "Si en théorie, les fonctions ne sont pas obligatoires pour coder, elles se révèlent vites indispensables. Que ce soit pour rendre votre code plus lisible, pour travailler à plusieurs, pour réutiliser des morceaux de code, il faut savoir écrire une fonction. **Lire les pages 180 et  181 de votre livre.**"
   ]
  },
  {
   "cell_type": "markdown",
   "metadata": {},
   "source": [
    "Fiche méthode page 181 : pour automatiser un changement d’échelle de carte, on veut réaliser une fonction qui calcule la longueur sur la carte après le changement d’échelle. Si on note **e1 l’échelle initiale** et **d la longueur initiale**, la distance réelle est égale à d / e1. La longueur L est égale à distanceRéelle x e2 **e2, l'échelle finale**.\n",
    "Écrire une fonction qui donne la longueur ﬁnale calculée à partir des échelles de départ et d’arrivée et de la longueur initiale.\n",
    "Par exemple, si l'échelle e1 est 1/25000 (1 cm pour 250 m), e2 est 1/100000 (1cm pour 1 km), une longueur de 8 cm sur la carte 1 représentera seulement 2 cm sur la carte 2."
   ]
  },
  {
   "cell_type": "code",
   "execution_count": null,
   "metadata": {},
   "outputs": [],
   "source": [
    "def changementDechelle(d,e1,e2):\n",
    "    distanceReelle=d/e1\n",
    "    L=distanceReelle*e2\n",
    "    return L\n",
    "\n",
    "# Pour appeler la fonction, vous pouvez essayer d'autres échelle et d'autres valeurs.\n",
    "changementDechelle(8,1/25000,1/100000)"
   ]
  },
  {
   "cell_type": "markdown",
   "metadata": {
    "slideshow": {
     "slide_type": "subslide"
    }
   },
   "source": [
    "## 6.1 Les données :\n",
    "L’abonnement à un service de stockage de données en ligne pour une entreprise coûte 200 euros d’ouverture de compte à l’inscription, puis 340 euros par mois. On veut calculer le prix total payé par l’entreprise en fonction du nombre de mois d’abonnement.\n",
    "<p style =\"text-align = center\"><img src=\"http://physiquelga.free.fr/SNT/Programmation/6D.jpg\" width=35%></p>"
   ]
  },
  {
   "cell_type": "code",
   "execution_count": null,
   "metadata": {},
   "outputs": [],
   "source": [
    "\"\"\"\" Déterminer les paramètres : le nombre de mois, \n",
    "la valeur de sortie : c'est le prix total et les instructions : faire le calcul.\"\"\" \n",
    "# Écrire une fonction en Python calculant le prix total payé par l’entreprise.\n",
    "def prixTotal(nbmois) :\n",
    "    prix = 200 + 340*nbmois\n",
    "    return (prix)"
   ]
  },
  {
   "cell_type": "code",
   "execution_count": null,
   "metadata": {},
   "outputs": [],
   "source": [
    "# Pour tester la fonction, inidquer le nombre de mois à l'intérieur des parenthèses.\n",
    "prixTotal(...)"
   ]
  },
  {
   "cell_type": "markdown",
   "metadata": {
    "slideshow": {
     "slide_type": "subslide"
    }
   },
   "source": [
    "## 6.2 La photographie numérique\n",
    "On souhaite calculer la résolution R d’une photo en fonction de sa déﬁnition D et de ses dimensions l et L. On donne : R = D / (l x L)\n",
    "<p style =\"text-align = center\"><img src=\"http://physiquelga.free.fr/SNT/Programmation/6PN.jpg\" width=35%></p>"
   ]
  },
  {
   "cell_type": "code",
   "execution_count": null,
   "metadata": {},
   "outputs": [],
   "source": [
    "\"\"\"\" Déterminer les paramètres : il y en a 3, la valeur de sortie est la résolution.\n",
    "Les instructions sont données par l'énoncé).\"\"\"\n",
    "# Écrire la fonction en Python calculant la résolution.\n",
    "def calculResolution(definition,largeur,longueur) :\n",
    "    res = definition / (largeur*longueur)\n",
    "    return(res)"
   ]
  },
  {
   "cell_type": "code",
   "execution_count": null,
   "metadata": {},
   "outputs": [],
   "source": [
    "#Les valeurs sont ici celle d'une télé HD de 102 cm de diagonale\n",
    "calculResolution(1920*1080,49,89)"
   ]
  },
  {
   "cell_type": "code",
   "execution_count": null,
   "metadata": {},
   "outputs": [],
   "source": []
  }
 ],
 "metadata": {
  "kernelspec": {
   "display_name": "Python 3",
   "language": "python",
   "name": "python3"
  },
  "language_info": {
   "codemirror_mode": {
    "name": "ipython",
    "version": 3
   },
   "file_extension": ".py",
   "mimetype": "text/x-python",
   "name": "python",
   "nbconvert_exporter": "python",
   "pygments_lexer": "ipython3",
   "version": "3.7.6"
  }
 },
 "nbformat": 4,
 "nbformat_minor": 4
}
